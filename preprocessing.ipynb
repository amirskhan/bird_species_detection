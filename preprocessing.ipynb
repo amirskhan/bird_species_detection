{
 "cells": [
  {
   "cell_type": "markdown",
   "id": "86cfc795-2beb-4ba6-825b-f64afbc09738",
   "metadata": {},
   "source": [
    "# Practical Implementation of a Deep Learning Object Detection Model "
   ]
  },
  {
   "cell_type": "markdown",
   "id": "2d823043-9dc8-402b-88ea-be669807b7db",
   "metadata": {},
   "source": [
    "This project is about detecting species of birds using Convolutional Neural Networks architectures. The dataset I am using has 2400 total images with 800 images per class of 3 classes of birds species. These classes are TurdusMerula, ErithacusRubecula and PeriparusAter. These images are tagged using an annotation tool. The TFRecords were created using the images and XML files and then fed into the model for training. I will be using Faster R-CNN and SSD ResNet50 for training. Faster R-CNN is a powerful state of the art model with good performnce and accuracy. But because of its power its slow in detecting from videos and in real time. I will also be traing an SSD ResNet50 which is a faster model but the accuracy is less. \n",
    "\n",
    "For both the models I will check the evaluation metrics and choose the better model for deployment and inferencing."
   ]
  },
  {
   "cell_type": "markdown",
   "id": "f3d0a6dd-b70c-40fa-9b2f-8ee11a258750",
   "metadata": {
    "tags": []
   },
   "source": [
    "# Data Pre-processing"
   ]
  },
  {
   "cell_type": "code",
   "execution_count": 11,
   "id": "ea8c630f-7cc7-42ff-ae10-992d35377a97",
   "metadata": {},
   "outputs": [],
   "source": [
    "# importing all necassary packages for preprocessing data\n",
    "import os\n",
    "import seaborn as sns\n",
    "import numpy as np\n",
    "from matplotlib.pyplot import imread\n",
    "import glob\n",
    "import pandas as pd\n",
    "import xml.etree.ElementTree as ET\n",
    "import shutil\n",
    "%matplotlib inline"
   ]
  },
  {
   "cell_type": "markdown",
   "id": "c367525f-7849-4a7a-8477-f6edbaaeb1cd",
   "metadata": {},
   "source": [
    "## Resolution distribution of images"
   ]
  },
  {
   "cell_type": "markdown",
   "id": "4dff1435-f39b-468e-9e02-f9e2ee853f03",
   "metadata": {},
   "source": [
    "Let's see the resolution distribution of the image dataset in order to select the right model for training."
   ]
  },
  {
   "cell_type": "code",
   "execution_count": 2,
   "id": "08994046-dab6-4aad-a7ab-97a1b29e6bf4",
   "metadata": {},
   "outputs": [
    {
     "name": "stdout",
     "output_type": "stream",
     "text": [
      "test\n",
      "train\n"
     ]
    }
   ],
   "source": [
    "dim1 = []\n",
    "dim2 = []\n",
    "for image_filename in os.listdir('./images'):\n",
    "    name, ext = os.path.splitext(image_filename)\n",
    "    try:\n",
    "        if not ext == '.xml':\n",
    "            img = imread('./images/'+image_filename)\n",
    "            d1,d2,color = img.shape\n",
    "            dim1.append(d1)\n",
    "            dim2.append(d2)\n",
    "    except:\n",
    "        print(image_filename)\n",
    "        continue"
   ]
  },
  {
   "cell_type": "code",
   "execution_count": 3,
   "id": "2f73d098-f4b5-4050-b24a-0d888c423af0",
   "metadata": {},
   "outputs": [
    {
     "name": "stderr",
     "output_type": "stream",
     "text": [
      "/home/msc1/anaconda3/envs/Env-7144COMP/lib/python3.8/site-packages/seaborn/_decorators.py:36: FutureWarning: Pass the following variables as keyword args: x, y. From version 0.12, the only valid positional argument will be `data`, and passing other arguments without an explicit keyword will result in an error or misinterpretation.\n",
      "  warnings.warn(\n"
     ]
    },
    {
     "data": {
      "text/plain": [
       "<seaborn.axisgrid.JointGrid at 0x7faf30093520>"
      ]
     },
     "execution_count": 3,
     "metadata": {},
     "output_type": "execute_result"
    },
    {
     "data": {
      "image/png": "[encoded data removed]",
      "text/plain": [
       "<Figure size 432x432 with 3 Axes>"
      ]
     },
     "metadata": {
      "needs_background": "light"
     },
     "output_type": "display_data"
    }
   ],
   "source": [
    "sns.jointplot(dim1,dim2)"
   ]
  },
  {
   "cell_type": "markdown",
   "id": "a0ada4a4-42c2-48fd-b798-8c09853139d1",
   "metadata": {},
   "source": [
    "As you can see the resolution of imost images lie in the range of 1000 through x and y axis. It would be better to choose the model that has been pre-trained on 1024 x 1024 images. Tensorflow Object Detection API has models trained on many different resolutions."
   ]
  },
  {
   "cell_type": "markdown",
   "id": "dd62862e-6758-4f40-adb3-1d29bf4094f4",
   "metadata": {},
   "source": [
    "Below we have the minimum, maximum and mean of the resolutions"
   ]
  },
  {
   "cell_type": "code",
   "execution_count": 4,
   "id": "0b2303d0-f7c4-4703-9add-eae8ad6f3e7d",
   "metadata": {},
   "outputs": [
    {
     "data": {
      "text/plain": [
       "802.2516666666667"
      ]
     },
     "execution_count": 4,
     "metadata": {},
     "output_type": "execute_result"
    }
   ],
   "source": [
    "np.mean(dim1)"
   ]
  },
  {
   "cell_type": "code",
   "execution_count": 5,
   "id": "de92d33a-4799-489e-a8dd-40c817fb43ee",
   "metadata": {},
   "outputs": [
    {
     "name": "stdout",
     "output_type": "stream",
     "text": [
      "Min: 142\n",
      "Max: 1024\n"
     ]
    }
   ],
   "source": [
    "print('Min:', np.min(dim1))\n",
    "print('Max:', np.max(dim1))"
   ]
  },
  {
   "cell_type": "code",
   "execution_count": 6,
   "id": "bf22cc57-55ed-48c5-b884-f94e8a387e5a",
   "metadata": {},
   "outputs": [
    {
     "data": {
      "text/plain": [
       "923.885"
      ]
     },
     "execution_count": 6,
     "metadata": {},
     "output_type": "execute_result"
    }
   ],
   "source": [
    "np.mean(dim2)"
   ]
  },
  {
   "cell_type": "code",
   "execution_count": 7,
   "id": "6c47ae88-56a9-4843-83de-761f58cbbaf7",
   "metadata": {},
   "outputs": [
    {
     "name": "stdout",
     "output_type": "stream",
     "text": [
      "Min: 140\n",
      "Max: 1024\n"
     ]
    }
   ],
   "source": [
    "print('Min:', np.min(dim2))\n",
    "print('Max:', np.max(dim2))"
   ]
  },
  {
   "cell_type": "markdown",
   "id": "ac84134c-b3b6-4b25-b881-746c6f482d57",
   "metadata": {},
   "source": [
    "## Removing NoGood images and XML files"
   ]
  },
  {
   "cell_type": "markdown",
   "id": "9063256d-8751-4f83-97cb-4a195655277a",
   "metadata": {},
   "source": [
    "While tagging data there were lot images that didn't have the object in it or were not so clear. It was good idea to to tag those images as NoGood. But it is important to delete those files before creating TFRecords."
   ]
  },
  {
   "cell_type": "markdown",
   "id": "2da50e7d-8bfd-445a-bb01-d80ffb7c9b70",
   "metadata": {},
   "source": [
    "The below function extracts values from the XML file and creates a dataframe."
   ]
  },
  {
   "cell_type": "code",
   "execution_count": 16,
   "id": "1be10609-2165-4c78-a4b8-91da98539d37",
   "metadata": {
    "tags": []
   },
   "outputs": [],
   "source": [
    "# function to extract values from xml files and creating a dataframe with those values\n",
    "def xml_to_csv(path):\n",
    "    xml_list = []\n",
    "    for xml_file in glob.glob(path + '/*.xml'):\n",
    "#         print(xml_file)\n",
    "        tree = ET.parse(xml_file)\n",
    "        root = tree.getroot()\n",
    "        for member in root.findall('object'):\n",
    "            value = (root.find('filename').text,\n",
    "                     float(root.find('size')[0].text),\n",
    "                     float(root.find('size')[1].text),\n",
    "                     member[0].text,\n",
    "                     float(member[4][0].text),\n",
    "                     float(member[4][2].text),\n",
    "                     float(member[4][1].text),\n",
    "                     float(member[4][3].text)\n",
    "                     )\n",
    "            xml_list.append(value)\n",
    "    column_name = ['filename', 'width', 'height', 'class', 'xmin', 'ymin', 'xmax', 'ymax']\n",
    "    xml_df = pd.DataFrame(xml_list, columns=column_name)\n",
    "    return xml_df"
   ]
  },
  {
   "cell_type": "markdown",
   "id": "357605de-a54f-4bad-be9d-831bc4802a06",
   "metadata": {},
   "source": [
    "Converting the XML files to dataframe and analysing it to find filenames of NoGood values. This step is performed in order to delete images and xml files of NoGood values"
   ]
  },
  {
   "cell_type": "code",
   "execution_count": 17,
   "id": "41ea4606-ff22-4857-8f22-bc39470495a1",
   "metadata": {},
   "outputs": [
    {
     "name": "stdout",
     "output_type": "stream",
     "text": [
      "/home/msc1/Desktop/Tensorflow-Object-Detection-API/Base/v1/object_detection/images/\n"
     ]
    },
    {
     "data": {
      "text/html": [
       "<div>\n",
       "<style scoped>\n",
       "    .dataframe tbody tr th:only-of-type {\n",
       "        vertical-align: middle;\n",
       "    }\n",
       "\n",
       "    .dataframe tbody tr th {\n",
       "        vertical-align: top;\n",
       "    }\n",
       "\n",
       "    .dataframe thead th {\n",
       "        text-align: right;\n",
       "    }\n",
       "</style>\n",
       "<table border=\"1\" class=\"dataframe\">\n",
       "  <thead>\n",
       "    <tr style=\"text-align: right;\">\n",
       "      <th></th>\n",
       "      <th>filename</th>\n",
       "      <th>width</th>\n",
       "      <th>height</th>\n",
       "      <th>class</th>\n",
       "      <th>xmin</th>\n",
       "      <th>ymin</th>\n",
       "      <th>xmax</th>\n",
       "      <th>ymax</th>\n",
       "    </tr>\n",
       "  </thead>\n",
       "  <tbody>\n",
       "    <tr>\n",
       "      <th>0</th>\n",
       "      <td>TurdusMerula407.jpg</td>\n",
       "      <td>577.0</td>\n",
       "      <td>1024.0</td>\n",
       "      <td>TurdusMerula</td>\n",
       "      <td>303.446203</td>\n",
       "      <td>366.505886</td>\n",
       "      <td>421.905274</td>\n",
       "      <td>467.196096</td>\n",
       "    </tr>\n",
       "    <tr>\n",
       "      <th>1</th>\n",
       "      <td>ErithacusRubecula491.jpg</td>\n",
       "      <td>1024.0</td>\n",
       "      <td>768.0</td>\n",
       "      <td>ErithacusRubecula</td>\n",
       "      <td>353.634672</td>\n",
       "      <td>273.307904</td>\n",
       "      <td>670.365328</td>\n",
       "      <td>573.435743</td>\n",
       "    </tr>\n",
       "    <tr>\n",
       "      <th>2</th>\n",
       "      <td>PeriparusAter167.jpg</td>\n",
       "      <td>634.0</td>\n",
       "      <td>1024.0</td>\n",
       "      <td>PeriparusAter</td>\n",
       "      <td>238.668763</td>\n",
       "      <td>461.473159</td>\n",
       "      <td>407.251208</td>\n",
       "      <td>750.958167</td>\n",
       "    </tr>\n",
       "    <tr>\n",
       "      <th>3</th>\n",
       "      <td>ErithacusRubecula744.jpg</td>\n",
       "      <td>1024.0</td>\n",
       "      <td>789.0</td>\n",
       "      <td>ErithacusRubecula</td>\n",
       "      <td>401.786832</td>\n",
       "      <td>313.582705</td>\n",
       "      <td>487.070831</td>\n",
       "      <td>394.930520</td>\n",
       "    </tr>\n",
       "    <tr>\n",
       "      <th>4</th>\n",
       "      <td>ErithacusRubecula393.jpg</td>\n",
       "      <td>1024.0</td>\n",
       "      <td>770.0</td>\n",
       "      <td>ErithacusRubecula</td>\n",
       "      <td>368.587850</td>\n",
       "      <td>166.460531</td>\n",
       "      <td>811.628956</td>\n",
       "      <td>582.611859</td>\n",
       "    </tr>\n",
       "  </tbody>\n",
       "</table>\n",
       "</div>"
      ],
      "text/plain": [
       "                   filename   width  height              class        xmin  \\\n",
       "0       TurdusMerula407.jpg   577.0  1024.0       TurdusMerula  303.446203   \n",
       "1  ErithacusRubecula491.jpg  1024.0   768.0  ErithacusRubecula  353.634672   \n",
       "2      PeriparusAter167.jpg   634.0  1024.0      PeriparusAter  238.668763   \n",
       "3  ErithacusRubecula744.jpg  1024.0   789.0  ErithacusRubecula  401.786832   \n",
       "4  ErithacusRubecula393.jpg  1024.0   770.0  ErithacusRubecula  368.587850   \n",
       "\n",
       "         ymin        xmax        ymax  \n",
       "0  366.505886  421.905274  467.196096  \n",
       "1  273.307904  670.365328  573.435743  \n",
       "2  461.473159  407.251208  750.958167  \n",
       "3  313.582705  487.070831  394.930520  \n",
       "4  166.460531  811.628956  582.611859  "
      ]
     },
     "execution_count": 17,
     "metadata": {},
     "output_type": "execute_result"
    }
   ],
   "source": [
    "image_path = os.path.join(os.getcwd(), 'images/')\n",
    "print(image_path)\n",
    "xml_df = xml_to_csv(image_path)\n",
    "xml_df.head()"
   ]
  },
  {
   "cell_type": "markdown",
   "id": "84518b3b-f781-4b0f-85cd-383b9285e1d8",
   "metadata": {},
   "source": [
    "Check the unique values of column class"
   ]
  },
  {
   "cell_type": "code",
   "execution_count": 24,
   "id": "b3d1b115-f86f-4931-a7ff-572dfb284b61",
   "metadata": {},
   "outputs": [
    {
     "data": {
      "text/plain": [
       "array(['TurdusMerula', 'ErithacusRubecula', 'PeriparusAter', 'NoGood'],\n",
       "      dtype=object)"
      ]
     },
     "execution_count": 24,
     "metadata": {},
     "output_type": "execute_result"
    }
   ],
   "source": [
    "xml_df['class'].unique()"
   ]
  },
  {
   "cell_type": "markdown",
   "id": "1b922424-3d24-4f75-a6bb-346139b1d17b",
   "metadata": {},
   "source": [
    "Below code shows all rows with NoGood values"
   ]
  },
  {
   "cell_type": "code",
   "execution_count": 23,
   "id": "be5f413a-ed70-4780-be8a-117239aeebef",
   "metadata": {},
   "outputs": [
    {
     "data": {
      "text/html": [
       "<div>\n",
       "<style scoped>\n",
       "    .dataframe tbody tr th:only-of-type {\n",
       "        vertical-align: middle;\n",
       "    }\n",
       "\n",
       "    .dataframe tbody tr th {\n",
       "        vertical-align: top;\n",
       "    }\n",
       "\n",
       "    .dataframe thead th {\n",
       "        text-align: right;\n",
       "    }\n",
       "</style>\n",
       "<table border=\"1\" class=\"dataframe\">\n",
       "  <thead>\n",
       "    <tr style=\"text-align: right;\">\n",
       "      <th></th>\n",
       "      <th>filename</th>\n",
       "      <th>width</th>\n",
       "      <th>height</th>\n",
       "      <th>class</th>\n",
       "      <th>xmin</th>\n",
       "      <th>ymin</th>\n",
       "      <th>xmax</th>\n",
       "      <th>ymax</th>\n",
       "    </tr>\n",
       "  </thead>\n",
       "  <tbody>\n",
       "    <tr>\n",
       "      <th>89</th>\n",
       "      <td>TurdusMerula20.jpg</td>\n",
       "      <td>576.0</td>\n",
       "      <td>1024.0</td>\n",
       "      <td>NoGood</td>\n",
       "      <td>222.440160</td>\n",
       "      <td>432.471444</td>\n",
       "      <td>354.127458</td>\n",
       "      <td>523.290270</td>\n",
       "    </tr>\n",
       "    <tr>\n",
       "      <th>111</th>\n",
       "      <td>ErithacusRubecula330.jpg</td>\n",
       "      <td>768.0</td>\n",
       "      <td>1024.0</td>\n",
       "      <td>NoGood</td>\n",
       "      <td>485.319753</td>\n",
       "      <td>259.631866</td>\n",
       "      <td>638.576521</td>\n",
       "      <td>366.343987</td>\n",
       "    </tr>\n",
       "    <tr>\n",
       "      <th>143</th>\n",
       "      <td>TurdusMerula310.jpg</td>\n",
       "      <td>576.0</td>\n",
       "      <td>1024.0</td>\n",
       "      <td>NoGood</td>\n",
       "      <td>113.806204</td>\n",
       "      <td>292.165014</td>\n",
       "      <td>197.638631</td>\n",
       "      <td>385.166613</td>\n",
       "    </tr>\n",
       "    <tr>\n",
       "      <th>167</th>\n",
       "      <td>TurdusMerula221.jpg</td>\n",
       "      <td>575.0</td>\n",
       "      <td>1024.0</td>\n",
       "      <td>NoGood</td>\n",
       "      <td>135.946084</td>\n",
       "      <td>127.713974</td>\n",
       "      <td>331.774178</td>\n",
       "      <td>280.970743</td>\n",
       "    </tr>\n",
       "    <tr>\n",
       "      <th>177</th>\n",
       "      <td>TurdusMerula465.jpg</td>\n",
       "      <td>768.0</td>\n",
       "      <td>1024.0</td>\n",
       "      <td>NoGood</td>\n",
       "      <td>301.859483</td>\n",
       "      <td>351.039494</td>\n",
       "      <td>553.879105</td>\n",
       "      <td>481.817245</td>\n",
       "    </tr>\n",
       "    <tr>\n",
       "      <th>...</th>\n",
       "      <td>...</td>\n",
       "      <td>...</td>\n",
       "      <td>...</td>\n",
       "      <td>...</td>\n",
       "      <td>...</td>\n",
       "      <td>...</td>\n",
       "      <td>...</td>\n",
       "      <td>...</td>\n",
       "    </tr>\n",
       "    <tr>\n",
       "      <th>2338</th>\n",
       "      <td>TurdusMerula197.jpg</td>\n",
       "      <td>768.0</td>\n",
       "      <td>1024.0</td>\n",
       "      <td>NoGood</td>\n",
       "      <td>542.081519</td>\n",
       "      <td>633.408096</td>\n",
       "      <td>699.879229</td>\n",
       "      <td>775.312512</td>\n",
       "    </tr>\n",
       "    <tr>\n",
       "      <th>2355</th>\n",
       "      <td>ErithacusRubecula169.jpg</td>\n",
       "      <td>1000.0</td>\n",
       "      <td>794.0</td>\n",
       "      <td>NoGood</td>\n",
       "      <td>576.581822</td>\n",
       "      <td>68.659565</td>\n",
       "      <td>818.210674</td>\n",
       "      <td>308.968040</td>\n",
       "    </tr>\n",
       "    <tr>\n",
       "      <th>2390</th>\n",
       "      <td>PeriparusAter311.jpg</td>\n",
       "      <td>768.0</td>\n",
       "      <td>1024.0</td>\n",
       "      <td>NoGood</td>\n",
       "      <td>435.085590</td>\n",
       "      <td>590.889986</td>\n",
       "      <td>562.799563</td>\n",
       "      <td>716.901107</td>\n",
       "    </tr>\n",
       "    <tr>\n",
       "      <th>2400</th>\n",
       "      <td>TurdusMerula279.jpg</td>\n",
       "      <td>768.0</td>\n",
       "      <td>1024.0</td>\n",
       "      <td>NoGood</td>\n",
       "      <td>218.823260</td>\n",
       "      <td>492.124513</td>\n",
       "      <td>407.839942</td>\n",
       "      <td>589.187133</td>\n",
       "    </tr>\n",
       "    <tr>\n",
       "      <th>2403</th>\n",
       "      <td>TurdusMerula113.jpg</td>\n",
       "      <td>768.0</td>\n",
       "      <td>1024.0</td>\n",
       "      <td>NoGood</td>\n",
       "      <td>95.934037</td>\n",
       "      <td>213.087218</td>\n",
       "      <td>237.838452</td>\n",
       "      <td>327.745986</td>\n",
       "    </tr>\n",
       "  </tbody>\n",
       "</table>\n",
       "<p>97 rows × 8 columns</p>\n",
       "</div>"
      ],
      "text/plain": [
       "                      filename   width  height   class        xmin  \\\n",
       "89          TurdusMerula20.jpg   576.0  1024.0  NoGood  222.440160   \n",
       "111   ErithacusRubecula330.jpg   768.0  1024.0  NoGood  485.319753   \n",
       "143        TurdusMerula310.jpg   576.0  1024.0  NoGood  113.806204   \n",
       "167        TurdusMerula221.jpg   575.0  1024.0  NoGood  135.946084   \n",
       "177        TurdusMerula465.jpg   768.0  1024.0  NoGood  301.859483   \n",
       "...                        ...     ...     ...     ...         ...   \n",
       "2338       TurdusMerula197.jpg   768.0  1024.0  NoGood  542.081519   \n",
       "2355  ErithacusRubecula169.jpg  1000.0   794.0  NoGood  576.581822   \n",
       "2390      PeriparusAter311.jpg   768.0  1024.0  NoGood  435.085590   \n",
       "2400       TurdusMerula279.jpg   768.0  1024.0  NoGood  218.823260   \n",
       "2403       TurdusMerula113.jpg   768.0  1024.0  NoGood   95.934037   \n",
       "\n",
       "            ymin        xmax        ymax  \n",
       "89    432.471444  354.127458  523.290270  \n",
       "111   259.631866  638.576521  366.343987  \n",
       "143   292.165014  197.638631  385.166613  \n",
       "167   127.713974  331.774178  280.970743  \n",
       "177   351.039494  553.879105  481.817245  \n",
       "...          ...         ...         ...  \n",
       "2338  633.408096  699.879229  775.312512  \n",
       "2355   68.659565  818.210674  308.968040  \n",
       "2390  590.889986  562.799563  716.901107  \n",
       "2400  492.124513  407.839942  589.187133  \n",
       "2403  213.087218  237.838452  327.745986  \n",
       "\n",
       "[97 rows x 8 columns]"
      ]
     },
     "execution_count": 23,
     "metadata": {},
     "output_type": "execute_result"
    }
   ],
   "source": [
    "xml_df.loc[xml_df['class'] == 'NoGood']"
   ]
  },
  {
   "cell_type": "markdown",
   "id": "49b91975-e65d-4734-9aa3-2c8045cd77b1",
   "metadata": {},
   "source": [
    "As you can see there are 97 rows with NoGood values and similar number of XML files. Lets extract the filenames and create a list of filenames."
   ]
  },
  {
   "cell_type": "markdown",
   "id": "b7008406-651b-4e38-8a89-74795f968c7e",
   "metadata": {},
   "source": [
    "Creating a list of filenames that contains NoGood values"
   ]
  },
  {
   "cell_type": "code",
   "execution_count": 29,
   "id": "7de568e7-8a27-481c-a43f-df6fc2c96477",
   "metadata": {
    "tags": []
   },
   "outputs": [
    {
     "data": {
      "text/plain": [
       "['TurdusMerula20.jpg',\n",
       " 'ErithacusRubecula330.jpg',\n",
       " 'TurdusMerula310.jpg',\n",
       " 'TurdusMerula221.jpg',\n",
       " 'TurdusMerula465.jpg',\n",
       " 'TurdusMerula369.jpg',\n",
       " 'TurdusMerula440.jpg',\n",
       " 'PeriparusAter463.jpg',\n",
       " 'TurdusMerula301.jpg',\n",
       " 'TurdusMerula496.jpg',\n",
       " 'TurdusMerula308.jpg',\n",
       " 'TurdusMerula697.jpg',\n",
       " 'TurdusMerula526.jpg',\n",
       " 'TurdusMerula185.jpg',\n",
       " 'TurdusMerula541.jpg',\n",
       " 'TurdusMerula244.jpg',\n",
       " 'TurdusMerula651.jpg',\n",
       " 'PeriparusAter1.jpg',\n",
       " 'TurdusMerula706.jpg',\n",
       " 'TurdusMerula639.jpg',\n",
       " 'TurdusMerula82.jpg',\n",
       " 'TurdusMerula283.jpg',\n",
       " 'TurdusMerula707.jpg',\n",
       " 'PeriparusAter198.jpg',\n",
       " 'TurdusMerula337.jpg',\n",
       " 'TurdusMerula700.jpg',\n",
       " 'TurdusMerula735.jpg',\n",
       " 'TurdusMerula379.jpg',\n",
       " 'TurdusMerula238.jpg',\n",
       " 'TurdusMerula394.jpg',\n",
       " 'TurdusMerula773.jpg',\n",
       " 'TurdusMerula436.jpg',\n",
       " 'TurdusMerula151.jpg',\n",
       " 'PeriparusAter113.jpg',\n",
       " 'TurdusMerula108.jpg',\n",
       " 'TurdusMerula514.jpg',\n",
       " 'TurdusMerula529.jpg',\n",
       " 'TurdusMerula665.jpg',\n",
       " 'PeriparusAter670.jpg',\n",
       " 'ErithacusRubecula552.jpg',\n",
       " 'TurdusMerula220.jpg',\n",
       " 'TurdusMerula629.jpg',\n",
       " 'PeriparusAter279.jpg',\n",
       " 'TurdusMerula305.jpg',\n",
       " 'TurdusMerula615.jpg',\n",
       " 'TurdusMerula609.jpg',\n",
       " 'PeriparusAter348.jpg',\n",
       " 'TurdusMerula218.jpg',\n",
       " 'TurdusMerula217.jpg',\n",
       " 'TurdusMerula206.jpg',\n",
       " 'TurdusMerula280.jpg',\n",
       " 'TurdusMerula96.jpg',\n",
       " 'TurdusMerula311.jpg',\n",
       " 'TurdusMerula361.jpg',\n",
       " 'TurdusMerula306.jpg',\n",
       " 'PeriparusAter689.jpg',\n",
       " 'TurdusMerula406.jpg',\n",
       " 'TurdusMerula199.jpg',\n",
       " 'PeriparusAter608.jpg',\n",
       " 'PeriparusAter542.jpg',\n",
       " 'PeriparusAter477.jpg',\n",
       " 'TurdusMerula685.jpg',\n",
       " 'PeriparusAter102.jpg',\n",
       " 'TurdusMerula57.jpg',\n",
       " 'TurdusMerula287.jpg',\n",
       " 'ErithacusRubecula292.jpg',\n",
       " 'TurdusMerula656.jpg',\n",
       " 'TurdusMerula130.jpg',\n",
       " 'PeriparusAter274.jpg',\n",
       " 'TurdusMerula792.jpg',\n",
       " 'TurdusMerula116.jpg',\n",
       " 'TurdusMerula371.jpg',\n",
       " 'PeriparusAter81.jpg',\n",
       " 'TurdusMerula293.jpg',\n",
       " 'PeriparusAter29.jpg',\n",
       " 'TurdusMerula595.jpg',\n",
       " 'TurdusMerula334.jpg',\n",
       " 'PeriparusAter14.jpg',\n",
       " 'TurdusMerula540.jpg',\n",
       " 'TurdusMerula398.jpg',\n",
       " 'TurdusMerula623.jpg',\n",
       " 'TurdusMerula642.jpg',\n",
       " 'TurdusMerula504.jpg',\n",
       " 'TurdusMerula696.jpg',\n",
       " 'TurdusMerula19.jpg',\n",
       " 'PeriparusAter199.jpg',\n",
       " 'ErithacusRubecula92.jpg',\n",
       " 'PeriparusAter170.jpg',\n",
       " 'TurdusMerula213.jpg',\n",
       " 'TurdusMerula580.jpg',\n",
       " 'TurdusMerula219.jpg',\n",
       " 'TurdusMerula236.jpg',\n",
       " 'TurdusMerula197.jpg',\n",
       " 'ErithacusRubecula169.jpg',\n",
       " 'PeriparusAter311.jpg',\n",
       " 'TurdusMerula279.jpg',\n",
       " 'TurdusMerula113.jpg']"
      ]
     },
     "execution_count": 29,
     "metadata": {},
     "output_type": "execute_result"
    }
   ],
   "source": [
    "# dataframe containing only NoGood values\n",
    "no_good_df = xml_df.loc[xml_df['class'] == 'NoGood']\n",
    "# creating a list of filenames\n",
    "no_good_list = list(no_good_df['filename'])\n",
    "no_good_list"
   ]
  },
  {
   "cell_type": "markdown",
   "id": "3601e6db-e7aa-41ac-83f4-63f561596c20",
   "metadata": {},
   "source": [
    "## Script to delete NoGood images and XML files"
   ]
  },
  {
   "cell_type": "markdown",
   "id": "06c43732-f04d-4c5b-b780-862953abecd7",
   "metadata": {},
   "source": [
    "In below script the images and xml files that are NoGood are deleted"
   ]
  },
  {
   "cell_type": "code",
   "execution_count": 39,
   "id": "865780a5-f499-441a-8e2b-ffd662b11906",
   "metadata": {
    "tags": []
   },
   "outputs": [],
   "source": [
    "# loop through the filename list\n",
    "for file in no_good_list:\n",
    "    # check if file exists\n",
    "    if os.path.isfile(image_path + file):\n",
    "#         print(image_path + file)\n",
    "        # remove image and xml files\n",
    "        os.remove(image_path + file)\n",
    "        os.remove(image_path + file.replace('jpg', 'xml'))\n",
    "    else:\n",
    "        print(f\"Error: {file} file not found\")"
   ]
  },
  {
   "cell_type": "markdown",
   "id": "ee836173-2a2c-4109-b6cb-b9080ee07962",
   "metadata": {},
   "source": [
    "Now let's create a new dataframe using xml_to_csv function from the image directory and check the lenght of the dataframe"
   ]
  },
  {
   "cell_type": "code",
   "execution_count": 40,
   "id": "f1907281-fe4e-484c-b538-fa72edfaf0a5",
   "metadata": {},
   "outputs": [
    {
     "data": {
      "text/plain": [
       "2323"
      ]
     },
     "execution_count": 40,
     "metadata": {},
     "output_type": "execute_result"
    }
   ],
   "source": [
    "xml_df_2 = xml_to_csv(image_path)\n",
    "len(xml_df_2)"
   ]
  },
  {
   "cell_type": "markdown",
   "id": "79d29b66-15f7-493a-8c16-076ef88a5744",
   "metadata": {},
   "source": [
    "The lenght of dataframe is reduced. Before it was 2420 and now it is 2323"
   ]
  },
  {
   "cell_type": "markdown",
   "id": "60700db7-997e-4675-9e2f-d20c69350a74",
   "metadata": {},
   "source": [
    "Check the unique classes of the class column of the dataframe"
   ]
  },
  {
   "cell_type": "code",
   "execution_count": 41,
   "id": "3fcf1db1-2ba6-48e4-a51f-0ddbc43900a0",
   "metadata": {},
   "outputs": [
    {
     "data": {
      "text/plain": [
       "array(['TurdusMerula', 'ErithacusRubecula', 'PeriparusAter'], dtype=object)"
      ]
     },
     "execution_count": 41,
     "metadata": {},
     "output_type": "execute_result"
    }
   ],
   "source": [
    "xml_df_2['class'].unique()"
   ]
  },
  {
   "cell_type": "markdown",
   "id": "efe5901e-92e3-4889-bedc-b50b85b2bab0",
   "metadata": {},
   "source": [
    "As you can see it does not contain NoGood as a class"
   ]
  },
  {
   "cell_type": "markdown",
   "id": "1edefa34-f4f0-43ec-a852-52189e228067",
   "metadata": {},
   "source": [
    "Let's check any class with NoGood value again."
   ]
  },
  {
   "cell_type": "code",
   "execution_count": 43,
   "id": "7d652e8b-86ce-44ca-9cfc-ccef2d0a05b4",
   "metadata": {},
   "outputs": [
    {
     "data": {
      "text/html": [
       "<div>\n",
       "<style scoped>\n",
       "    .dataframe tbody tr th:only-of-type {\n",
       "        vertical-align: middle;\n",
       "    }\n",
       "\n",
       "    .dataframe tbody tr th {\n",
       "        vertical-align: top;\n",
       "    }\n",
       "\n",
       "    .dataframe thead th {\n",
       "        text-align: right;\n",
       "    }\n",
       "</style>\n",
       "<table border=\"1\" class=\"dataframe\">\n",
       "  <thead>\n",
       "    <tr style=\"text-align: right;\">\n",
       "      <th></th>\n",
       "      <th>filename</th>\n",
       "      <th>width</th>\n",
       "      <th>height</th>\n",
       "      <th>class</th>\n",
       "      <th>xmin</th>\n",
       "      <th>ymin</th>\n",
       "      <th>xmax</th>\n",
       "      <th>ymax</th>\n",
       "    </tr>\n",
       "  </thead>\n",
       "  <tbody>\n",
       "  </tbody>\n",
       "</table>\n",
       "</div>"
      ],
      "text/plain": [
       "Empty DataFrame\n",
       "Columns: [filename, width, height, class, xmin, ymin, xmax, ymax]\n",
       "Index: []"
      ]
     },
     "execution_count": 43,
     "metadata": {},
     "output_type": "execute_result"
    }
   ],
   "source": [
    "xml_df_2.loc[xml_df_2['class'] == 'NoGood']"
   ]
  },
  {
   "cell_type": "markdown",
   "id": "b50aa3cc-bd73-4d8d-8aad-618051baba4c",
   "metadata": {},
   "source": [
    "It is empty because all the files with NoGood values have been deleted."
   ]
  },
  {
   "cell_type": "code",
   "execution_count": null,
   "id": "1d3b5472-1727-4e99-bd42-385edb542e5c",
   "metadata": {},
   "outputs": [],
   "source": []
  }
 ],
 "metadata": {
  "kernelspec": {
   "display_name": "Python 3.9.12 ('base')",
   "language": "python",
   "name": "python3"
  },
  "language_info": {
   "codemirror_mode": {
    "name": "ipython",
    "version": 3
   },
   "file_extension": ".py",
   "mimetype": "text/x-python",
   "name": "python",
   "nbconvert_exporter": "python",
   "pygments_lexer": "ipython3",
   "version": "3.9.12"
  },
  "vscode": {
   "interpreter": {
    "hash": "84550798fe076b483c575717fa0229aea33cbd2fc1fead4d12b6570d0e7f3b6f"
   }
  }
 },
 "nbformat": 4,
 "nbformat_minor": 5
}
